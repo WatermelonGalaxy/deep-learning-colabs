{
  "cells": [
    {
      "attachments": {},
      "cell_type": "markdown",
      "metadata": {
        "colab_type": "text",
        "id": "view-in-github"
      },
      "source": [
        "<a href=\"https://colab.research.google.com/github/WatermelonGalaxy/deep-learning-colabs/blob/main/ADL_hw_CA_housing.ipynb\" target=\"_parent\"><img src=\"https://colab.research.google.com/assets/colab-badge.svg\" alt=\"Open In Colab\"/></a>"
      ]
    },
    {
      "cell_type": "code",
      "execution_count": 4,
      "metadata": {
        "colab": {
          "base_uri": "https://localhost:8080/"
        },
        "id": "2Wdjr_jVIH4M",
        "outputId": "85639bb6-5084-40c5-b3c7-709e2d4a9159"
      },
      "outputs": [
        {
          "name": "stdout",
          "output_type": "stream",
          "text": [
            "(11610, 8)\n",
            "[ 5.32750000e+00  5.00000000e+00  6.49005964e+00  9.91053678e-01\n",
            "  3.46400000e+03  3.44333996e+00  3.36900000e+01 -1.17390000e+02]\n",
            "[1.442 1.687 1.621 ... 0.68  0.613 1.97 ]\n"
          ]
        }
      ],
      "source": [
        "import tensorflow as tf\n",
        "from tensorflow import keras\n",
        "from tensorflow.keras import layers\n",
        "from sklearn.model_selection import train_test_split\n",
        "from sklearn.datasets import fetch_california_housing\n",
        "\n",
        "\n",
        "housing = fetch_california_housing()\n",
        "X_train_full, X_test, y_train_full, y_test = train_test_split(\n",
        "    housing.data, housing.target, random_state=42)\n",
        "X_train, X_valid, y_train, y_valid = train_test_split(\n",
        "    X_train_full, y_train_full, random_state=42)\n",
        "\n",
        "print(X_train.shape)\n",
        "print(X_train[1])\n",
        "print(y_train)"
      ]
    },
    {
      "attachments": {},
      "cell_type": "markdown",
      "metadata": {
        "id": "TrE5ydyvJHQY"
      },
      "source": [
        "Create a FUNCTIONAL model. Set:\n",
        "\n",
        "- final layer\n",
        "- loss\n",
        "- optimizer\n",
        "- metrics\n",
        "\n",
        "See sample code at the bottom for:\n",
        "- performance on X_test/y_test\n",
        "- plot of train history\n"
      ]
    },
    {
      "cell_type": "code",
      "execution_count": 16,
      "metadata": {
        "id": "qK999g1IKWDN"
      },
      "outputs": [],
      "source": [
        "# model goes here\n",
        "# Use Functional API; no Sequential models allowed.\n",
        "\n",
        "tf.keras.backend.clear_session()\n",
        "tf.random.set_seed(42)\n",
        "\n",
        "\n",
        "#You might benefit from a simimlar first layer:\n",
        "input_layer = tf.keras.layers.Input(shape=(8,))\n",
        "# normalizezation layer\n",
        "norm = tf.keras.layers.Normalization(axis=-1)(input_layer)\n",
        "# Add a dense layer (with relu activation) connected to the input_layer\n",
        "dense1 = tf.keras.layers.Dense(128, activation='relu')(norm)\n",
        "# Add a dense layer (with relu activation) connected to the dense1 layer\n",
        "dense2 = tf.keras.layers.Dense(64, activation='relu')(dense1)\n",
        "\n",
        "# output layer\n",
        "output_layer = tf.keras.layers.Dense(1)(dense2)\n",
        "\n",
        "# Create a model using the input layer and output layer\n",
        "model = tf.keras.models.Model(inputs=input_layer, outputs=output_layer)\n",
        "\n",
        "\n",
        "\n"
      ]
    },
    {
      "cell_type": "code",
      "execution_count": 18,
      "metadata": {
        "id": "Lvmij627KYTb"
      },
      "outputs": [
        {
          "name": "stdout",
          "output_type": "stream",
          "text": [
            "Epoch 1/25\n",
            "363/363 [==============================] - 1s 1ms/step - loss: 14.3597 - accuracy: 0.0028 - val_loss: 17.3544 - val_accuracy: 0.0013\n",
            "Epoch 2/25\n",
            "363/363 [==============================] - 0s 937us/step - loss: 1.9193 - accuracy: 0.0026 - val_loss: 0.7873 - val_accuracy: 0.0044\n",
            "Epoch 3/25\n",
            "363/363 [==============================] - 0s 940us/step - loss: 16.4655 - accuracy: 0.0028 - val_loss: 0.7385 - val_accuracy: 0.0044\n",
            "Epoch 4/25\n",
            "363/363 [==============================] - 0s 951us/step - loss: 3.5560 - accuracy: 0.0027 - val_loss: 1.9672 - val_accuracy: 0.0044\n",
            "Epoch 5/25\n",
            "363/363 [==============================] - 0s 970us/step - loss: 5.6498 - accuracy: 0.0026 - val_loss: 1.7722 - val_accuracy: 0.0044\n",
            "Epoch 6/25\n",
            "363/363 [==============================] - 0s 957us/step - loss: 46.8519 - accuracy: 0.0026 - val_loss: 0.7917 - val_accuracy: 0.0044\n",
            "Epoch 7/25\n",
            "363/363 [==============================] - 0s 930us/step - loss: 0.7720 - accuracy: 0.0029 - val_loss: 0.8577 - val_accuracy: 0.0044\n",
            "Epoch 8/25\n",
            "363/363 [==============================] - 0s 950us/step - loss: 0.8180 - accuracy: 0.0029 - val_loss: 0.9932 - val_accuracy: 0.0044\n",
            "Epoch 9/25\n",
            "363/363 [==============================] - 0s 942us/step - loss: 0.7930 - accuracy: 0.0028 - val_loss: 1.3584 - val_accuracy: 0.0041\n",
            "Epoch 10/25\n",
            "363/363 [==============================] - 0s 961us/step - loss: 1.3811 - accuracy: 0.0028 - val_loss: 4.9674 - val_accuracy: 0.0026\n",
            "Epoch 11/25\n",
            "363/363 [==============================] - 0s 1ms/step - loss: 1.3192 - accuracy: 0.0028 - val_loss: 1.1258 - val_accuracy: 0.0044\n",
            "Epoch 12/25\n",
            "363/363 [==============================] - 0s 926us/step - loss: 1.0167 - accuracy: 0.0028 - val_loss: 3.3006 - val_accuracy: 0.0028\n",
            "Epoch 13/25\n",
            "363/363 [==============================] - 0s 975us/step - loss: 56.1279 - accuracy: 0.0025 - val_loss: 1.1017 - val_accuracy: 0.0044\n",
            "Epoch 14/25\n",
            "363/363 [==============================] - 0s 931us/step - loss: 0.7423 - accuracy: 0.0029 - val_loss: 1.2918 - val_accuracy: 0.0044\n",
            "Epoch 15/25\n",
            "363/363 [==============================] - 0s 910us/step - loss: 0.7737 - accuracy: 0.0029 - val_loss: 1.1671 - val_accuracy: 0.0044\n",
            "Epoch 16/25\n",
            "363/363 [==============================] - 0s 916us/step - loss: 0.9263 - accuracy: 0.0029 - val_loss: 1.7087 - val_accuracy: 0.0044\n",
            "Epoch 17/25\n",
            "363/363 [==============================] - 0s 945us/step - loss: 0.7308 - accuracy: 0.0028 - val_loss: 1.2682 - val_accuracy: 0.0044\n",
            "Epoch 18/25\n",
            "363/363 [==============================] - 0s 954us/step - loss: 1.0514 - accuracy: 0.0028 - val_loss: 1.2923 - val_accuracy: 0.0041\n",
            "Epoch 19/25\n",
            "363/363 [==============================] - 0s 958us/step - loss: 1.1661 - accuracy: 0.0028 - val_loss: 1.1789 - val_accuracy: 0.0041\n",
            "Epoch 20/25\n",
            "363/363 [==============================] - 0s 952us/step - loss: 0.8425 - accuracy: 0.0028 - val_loss: 0.8574 - val_accuracy: 0.0044\n",
            "Epoch 21/25\n",
            "363/363 [==============================] - 0s 961us/step - loss: 1.7405 - accuracy: 0.0027 - val_loss: 0.9829 - val_accuracy: 0.0044\n",
            "Epoch 22/25\n",
            "363/363 [==============================] - 0s 986us/step - loss: 0.9645 - accuracy: 0.0028 - val_loss: 1.1968 - val_accuracy: 0.0044\n",
            "Epoch 23/25\n",
            "363/363 [==============================] - 0s 961us/step - loss: 5.9563 - accuracy: 0.0019 - val_loss: 1.5698 - val_accuracy: 0.0044\n",
            "Epoch 24/25\n",
            "363/363 [==============================] - 0s 991us/step - loss: 1.4338 - accuracy: 0.0027 - val_loss: 1.4845 - val_accuracy: 0.0041\n",
            "Epoch 25/25\n",
            "363/363 [==============================] - 0s 923us/step - loss: 1.3282 - accuracy: 0.0028 - val_loss: 3.0191 - val_accuracy: 0.0044\n"
          ]
        }
      ],
      "source": [
        "model.compile(optimizer='adam', loss='mse', metrics= ['accuracy']) # Your code here\n",
        "\n",
        "number_of_epochs = 10 #change this!\n",
        "\n",
        "history = model.fit(X_train, y_train, epochs=number_of_epochs,\n",
        "                    validation_data=(X_valid, y_valid))"
      ]
    },
    {
      "cell_type": "code",
      "execution_count": 54,
      "metadata": {
        "id": "OORUr3dMKcgN"
      },
      "outputs": [
        {
          "data": {
            "image/png": "[encoded data removed]",
            "text/plain": [
              "<Figure size 800x500 with 1 Axes>"
            ]
          },
          "metadata": {},
          "output_type": "display_data"
        }
      ],
      "source": [
        "import matplotlib.pyplot as plt\n",
        "import pandas as pd\n",
        "\n",
        "pd.DataFrame(history.history).plot(\n",
        "    figsize=(8, 5), xlim=[0, 29], ylim=[0, 1], grid=True, xlabel=\"Epoch\",\n",
        "    style=[\"r--\", \"r--.\", \"b-\", \"b-*\"])\n",
        "plt.legend(loc=\"lower left\")\n",
        "plt.show()"
      ]
    },
    {
      "cell_type": "code",
      "execution_count": 23,
      "metadata": {
        "id": "rNx8dM3VKkwA"
      },
      "outputs": [
        {
          "name": "stdout",
          "output_type": "stream",
          "text": [
            "162/162 [==============================] - 0s 578us/step - loss: 2.4536\n"
          ]
        },
        {
          "data": {
            "text/plain": [
              "2.453583240509033"
            ]
          },
          "execution_count": 23,
          "metadata": {},
          "output_type": "execute_result"
        }
      ],
      "source": [
        "model.evaluate(X_test, y_test)"
      ]
    },
    {
      "cell_type": "code",
      "execution_count": null,
      "metadata": {
        "id": "NSEiij80KlE3"
      },
      "outputs": [],
      "source": []
    }
  ],
  "metadata": {
    "colab": {
      "include_colab_link": true,
      "provenance": []
    },
    "kernelspec": {
      "display_name": "Python 3",
      "name": "python3"
    },
    "language_info": {
      "codemirror_mode": {
        "name": "ipython",
        "version": 3
      },
      "file_extension": ".py",
      "mimetype": "text/x-python",
      "name": "python",
      "nbconvert_exporter": "python",
      "pygments_lexer": "ipython3",
      "version": "3.9.1"
    }
  },
  "nbformat": 4,
  "nbformat_minor": 0
}
