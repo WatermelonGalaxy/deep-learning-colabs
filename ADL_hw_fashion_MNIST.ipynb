{
  "cells": [
    {
      "attachments": {},
      "cell_type": "markdown",
      "metadata": {
        "colab_type": "text",
        "id": "view-in-github"
      },
      "source": [
        "<a href=\"https://colab.research.google.com/github/WatermelonGalaxy/deep-learning-colabs/blob/main/ADL_hw_fashion_MNIST.ipynb\" target=\"_parent\"><img src=\"https://colab.research.google.com/assets/colab-badge.svg\" alt=\"Open In Colab\"/></a>"
      ]
    },
    {
      "cell_type": "code",
      "execution_count": 1,
      "metadata": {
        "colab": {
          "base_uri": "https://localhost:8080/"
        },
        "id": "2Wdjr_jVIH4M",
        "outputId": "89a2519c-6f97-4203-fb87-021477515554"
      },
      "outputs": [
        {
          "name": "stdout",
          "output_type": "stream",
          "text": [
            "Downloading data from https://storage.googleapis.com/tensorflow/tf-keras-datasets/train-labels-idx1-ubyte.gz\n",
            "29515/29515 [==============================] - 0s 0us/step\n",
            "Downloading data from https://storage.googleapis.com/tensorflow/tf-keras-datasets/train-images-idx3-ubyte.gz\n",
            "26421880/26421880 [==============================] - 0s 0us/step\n",
            "Downloading data from https://storage.googleapis.com/tensorflow/tf-keras-datasets/t10k-labels-idx1-ubyte.gz\n",
            "5148/5148 [==============================] - 0s 0s/step\n",
            "Downloading data from https://storage.googleapis.com/tensorflow/tf-keras-datasets/t10k-images-idx3-ubyte.gz\n",
            "4422102/4422102 [==============================] - 0s 0us/step\n",
            "(55000, 28, 28)\n"
          ]
        }
      ],
      "source": [
        "import tensorflow as tf\n",
        "\n",
        "d = 5000\n",
        "\n",
        "#images of fashion items\n",
        "\n",
        "fashion_mnist = tf.keras.datasets.fashion_mnist.load_data()\n",
        "(X_train_full, y_train_full), (X_test, y_test) = fashion_mnist\n",
        "X_train, y_train = X_train_full[:-d], y_train_full[:-d]\n",
        "X_valid, y_valid = X_train_full[-d:], y_train_full[-d:]\n",
        "\n",
        "print(X_train.shape)"
      ]
    },
    {
      "cell_type": "code",
      "execution_count": 3,
      "metadata": {
        "colab": {
          "base_uri": "https://localhost:8080/"
        },
        "id": "V3Ja4iQfIk39",
        "outputId": "76a42503-91e2-4d3a-ea9c-74ff0217e2a9"
      },
      "outputs": [
        {
          "name": "stdout",
          "output_type": "stream",
          "text": [
            "10\n",
            "Ankle boot\n",
            "T-shirt/top\n",
            "T-shirt/top\n",
            "Dress\n",
            "T-shirt/top\n"
          ]
        }
      ],
      "source": [
        "class_names = [\"T-shirt/top\", \"Trouser\", \"Pullover\", \"Dress\", \"Coat\",\n",
        "               \"Sandal\", \"Shirt\", \"Sneaker\", \"Bag\", \"Ankle boot\"]\n",
        "\n",
        "print(len(class_names))\n",
        "\n",
        "for i in range(5):\n",
        "  print(class_names[y_train[i]])"
      ]
    },
    {
      "cell_type": "code",
      "execution_count": 5,
      "metadata": {
        "colab": {
          "base_uri": "https://localhost:8080/",
          "height": 424
        },
        "id": "2jtI0fozIaHT",
        "outputId": "e56c9d81-574d-49af-8ce0-06ac0798d6ae"
      },
      "outputs": [
        {
          "data": {
            "image/png": "[encoded data removed]",
            "text/plain": [
              "<Figure size 640x480 with 1 Axes>"
            ]
          },
          "metadata": {},
          "output_type": "display_data"
        },
        {
          "name": "stdout",
          "output_type": "stream",
          "text": [
            "T-shirt/top\n"
          ]
        }
      ],
      "source": [
        "import matplotlib.pyplot as plt\n",
        "\n",
        "X_train, X_valid, X_test = X_train / 255., X_valid / 255., X_test / 255.\n",
        "\n",
        "i = 10 #try different values here!\n",
        "plt.imshow(X_train[i], cmap=\"binary\")\n",
        "plt.axis('off')\n",
        "plt.show()\n",
        "print(class_names[y_train[i]])"
      ]
    },
    {
      "attachments": {},
      "cell_type": "markdown",
      "metadata": {
        "id": "TrE5ydyvJHQY"
      },
      "source": [
        "Create a model. Set:\n",
        "\n",
        "- final layer\n",
        "- loss\n",
        "- optimizer\n",
        "- metrics\n",
        "\n",
        "See sample code at the bottom for:\n",
        "- accuracy on X_test/y_test\n",
        "- plot of train history\n"
      ]
    },
    {
      "cell_type": "code",
      "execution_count": 39,
      "metadata": {
        "id": "qK999g1IKWDN"
      },
      "outputs": [],
      "source": [
        "# model goes here\n",
        "tf.keras.backend.clear_session()\n",
        "tf.random.set_seed(42)\n",
        "\n",
        "\n",
        "#For now you will need the following as your first layer:\n",
        "model = tf.keras.Sequential([\n",
        "    tf.keras.layers.Flatten(input_shape=[28, 28]),\n",
        "    tf.keras.layers.Dense(400, activation=\"relu\"),\n",
        "    tf.keras.layers.Dense(200, activation=\"relu\"),\n",
        "    tf.keras.layers.Dense(100, activation=\"relu\"),\n",
        "    tf.keras.layers.Dense(10, activation=\"softmax\")\n",
        "])\n",
        "    \n",
        "    #No Convolution is allowed.\n",
        "\n",
        "\n"
      ]
    },
    {
      "cell_type": "code",
      "execution_count": 40,
      "metadata": {
        "id": "Lvmij627KYTb"
      },
      "outputs": [
        {
          "name": "stdout",
          "output_type": "stream",
          "text": [
            "Epoch 1/8\n",
            "1719/1719 [==============================] - 7s 4ms/step - loss: 0.9845 - accuracy: 0.6221 - val_loss: 0.7220 - val_accuracy: 0.7136\n",
            "Epoch 2/8\n",
            "1719/1719 [==============================] - 6s 4ms/step - loss: 0.5900 - accuracy: 0.7829 - val_loss: 0.5214 - val_accuracy: 0.8084\n",
            "Epoch 3/8\n",
            "1719/1719 [==============================] - 6s 3ms/step - loss: 0.4914 - accuracy: 0.8217 - val_loss: 0.4776 - val_accuracy: 0.8264\n",
            "Epoch 4/8\n",
            "1719/1719 [==============================] - 6s 4ms/step - loss: 0.4409 - accuracy: 0.8390 - val_loss: 0.4115 - val_accuracy: 0.8464\n",
            "Epoch 5/8\n",
            "1719/1719 [==============================] - 6s 4ms/step - loss: 0.4060 - accuracy: 0.8521 - val_loss: 0.3834 - val_accuracy: 0.8570\n",
            "Epoch 6/8\n",
            "1719/1719 [==============================] - 7s 4ms/step - loss: 0.3819 - accuracy: 0.8600 - val_loss: 0.3917 - val_accuracy: 0.8568\n",
            "Epoch 7/8\n",
            "1719/1719 [==============================] - 6s 4ms/step - loss: 0.3652 - accuracy: 0.8660 - val_loss: 0.3676 - val_accuracy: 0.8658\n",
            "Epoch 8/8\n",
            "1719/1719 [==============================] - 6s 4ms/step - loss: 0.3507 - accuracy: 0.8709 - val_loss: 0.3616 - val_accuracy: 0.8636\n"
          ]
        }
      ],
      "source": [
        "number_of_epochs = 8 #change this!\n",
        "\n",
        "model.compile(loss=\"sparse_categorical_crossentropy\",\n",
        "                optimizer=\"RMSprop\",\n",
        "                metrics=[\"accuracy\"])\n",
        "\n",
        "\n",
        "history = model.fit(X_train, y_train, epochs=number_of_epochs,\n",
        "                    validation_data=(X_valid, y_valid))"
      ]
    },
    {
      "cell_type": "code",
      "execution_count": 41,
      "metadata": {
        "id": "OORUr3dMKcgN"
      },
      "outputs": [
        {
          "data": {
            "image/png": "[encoded data removed]",
            "text/plain": [
              "<Figure size 800x500 with 1 Axes>"
            ]
          },
          "metadata": {},
          "output_type": "display_data"
        }
      ],
      "source": [
        "import matplotlib.pyplot as plt\n",
        "import pandas as pd\n",
        "\n",
        "pd.DataFrame(history.history).plot(\n",
        "    figsize=(8, 5), xlim=[0, number_of_epochs], ylim=[0, 1], grid=True, xlabel=\"Epoch\",\n",
        "    style=[\"r--\", \"r--.\", \"b-\", \"b-*\"])\n",
        "plt.legend(loc=\"lower right\")\n",
        "plt.show()"
      ]
    },
    {
      "cell_type": "code",
      "execution_count": null,
      "metadata": {
        "id": "rNx8dM3VKkwA"
      },
      "outputs": [],
      "source": [
        "model.evaluate(X_test, y_test)"
      ]
    },
    {
      "cell_type": "code",
      "execution_count": null,
      "metadata": {
        "id": "NSEiij80KlE3"
      },
      "outputs": [],
      "source": []
    }
  ],
  "metadata": {
    "colab": {
      "include_colab_link": true,
      "provenance": []
    },
    "kernelspec": {
      "display_name": "Python 3",
      "name": "python3"
    },
    "language_info": {
      "codemirror_mode": {
        "name": "ipython",
        "version": 3
      },
      "file_extension": ".py",
      "mimetype": "text/x-python",
      "name": "python",
      "nbconvert_exporter": "python",
      "pygments_lexer": "ipython3",
      "version": "3.9.1"
    }
  },
  "nbformat": 4,
  "nbformat_minor": 0
}
